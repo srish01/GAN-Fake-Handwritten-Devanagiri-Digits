{
  "nbformat": 4,
  "nbformat_minor": 0,
  "metadata": {
    "colab": {
      "name": "GAN.ipynb",
      "provenance": [],
      "collapsed_sections": []
    },
    "kernelspec": {
      "name": "python3",
      "display_name": "Python 3"
    },
    "accelerator": "GPU"
  },
  "cells": [
    {
      "cell_type": "code",
      "metadata": {
        "id": "-Fp_KEdgKe64",
        "colab_type": "code",
        "outputId": "7cc506e0-5044-4652-aaa3-707291b13bbd",
        "colab": {
          "base_uri": "https://localhost:8080/",
          "height": 102
        }
      },
      "source": [
        "!apt install unzip"
      ],
      "execution_count": 0,
      "outputs": [
        {
          "output_type": "stream",
          "text": [
            "Reading package lists... Done\n",
            "Building dependency tree       \n",
            "Reading state information... Done\n",
            "unzip is already the newest version (6.0-21ubuntu1).\n",
            "0 upgraded, 0 newly installed, 0 to remove and 29 not upgraded.\n"
          ],
          "name": "stdout"
        }
      ]
    },
    {
      "cell_type": "code",
      "metadata": {
        "id": "YifJR99bKhb_",
        "colab_type": "code",
        "colab": {}
      },
      "source": [
        "from zipfile import ZipFile\n",
        "from google.colab import drive\n",
        "drive.mount('/content/drive')\n",
        "!unzip  \"/content/drive/My Drive/ML/Train.zip\" -d \"/content\"\n",
        "!unzip  \"/content/drive/My Drive/ML/Test.zip\" -d \"/content\""
      ],
      "execution_count": 0,
      "outputs": []
    },
    {
      "cell_type": "code",
      "metadata": {
        "id": "LSYj05ilKpG3",
        "colab_type": "code",
        "colab": {}
      },
      "source": [
        "import cv2 \n",
        "import numpy as np\n",
        "import pandas as pd\n",
        "import os\n",
        "\n",
        "import matplotlib\n",
        "import matplotlib.pyplot as plt\n",
        "%matplotlib inline"
      ],
      "execution_count": 0,
      "outputs": []
    },
    {
      "cell_type": "code",
      "metadata": {
        "id": "XcN8nyx3KzMx",
        "colab_type": "code",
        "outputId": "a6c79ba5-31ca-4a65-f6b6-bea42c39b7f3",
        "colab": {
          "base_uri": "https://localhost:8080/",
          "height": 1000
        }
      },
      "source": [
        "root = '/content/Train'\n",
        "\n",
        "img_train = []\n",
        "label_train = []\n",
        "for filename in os.listdir(root):\n",
        "  print(filename)\n",
        "  if 'digit' in filename:\n",
        "    print('----------------------')\n",
        "    print(filename)\n",
        "    for roots, dirs, files in os.walk(root+'/'+filename):\n",
        "      \n",
        "      for file in files:\n",
        "        im = cv2.imread(os.path.join(roots,file),0)\n",
        "        im = im[2:30,2:30]\n",
        "        img_train.append(im)\n",
        "\n",
        "        label_train.append(int(filename[-1]))\n",
        "\n",
        "\n",
        "root = '/content/Test'\n",
        "\n",
        "# img_test = []\n",
        "# label_test = []\n",
        "for filename in os.listdir(root):\n",
        "  # print(filename)\n",
        "  if 'digit' in filename:\n",
        "    print('----------------------')\n",
        "    print(filename)\n",
        "    for roots, dirs, files in os.walk(root+'/'+filename):\n",
        "      \n",
        "      for file in files:\n",
        "        im = cv2.imread(os.path.join(roots,file),0)\n",
        "        im = im[2:30,2:30]\n",
        "        img_train.append(im)\n",
        "        label_train.append(int(filename[-1]))\n"
      ],
      "execution_count": 5,
      "outputs": [
        {
          "output_type": "stream",
          "text": [
            "character_9_jha\n",
            "character_6_cha\n",
            "character_13_daa\n",
            "character_5_kna\n",
            "character_1_ka\n",
            "character_4_gha\n",
            "character_3_ga\n",
            "digit_9\n",
            "----------------------\n",
            "digit_9\n",
            "character_7_chha\n",
            "character_28_la\n",
            "character_15_adna\n",
            "character_23_ba\n",
            "character_8_ja\n",
            "digit_3\n",
            "----------------------\n",
            "digit_3\n",
            "character_35_tra\n",
            "character_10_yna\n",
            "character_32_patalosaw\n",
            "character_17_tha\n",
            "character_24_bha\n",
            "character_27_ra\n",
            "character_29_waw\n",
            "character_21_pa\n",
            "character_30_motosaw\n",
            "character_22_pha\n",
            "character_2_kha\n",
            "digit_4\n",
            "----------------------\n",
            "digit_4\n",
            "digit_2\n",
            "----------------------\n",
            "digit_2\n",
            "character_33_ha\n",
            "digit_7\n",
            "----------------------\n",
            "digit_7\n",
            "digit_6\n",
            "----------------------\n",
            "digit_6\n",
            "character_19_dha\n",
            "digit_1\n",
            "----------------------\n",
            "digit_1\n",
            "digit_5\n",
            "----------------------\n",
            "digit_5\n",
            "character_14_dhaa\n",
            "character_11_taamatar\n",
            "character_25_ma\n",
            "character_31_petchiryakha\n",
            "character_20_na\n",
            "character_36_gya\n",
            "character_16_tabala\n",
            "character_26_yaw\n",
            "digit_0\n",
            "----------------------\n",
            "digit_0\n",
            "digit_8\n",
            "----------------------\n",
            "digit_8\n",
            "character_34_chhya\n",
            "character_18_da\n",
            "character_12_thaa\n",
            "----------------------\n",
            "digit_9\n",
            "----------------------\n",
            "digit_3\n",
            "----------------------\n",
            "digit_4\n",
            "----------------------\n",
            "digit_2\n",
            "----------------------\n",
            "digit_7\n",
            "----------------------\n",
            "digit_6\n",
            "----------------------\n",
            "digit_1\n",
            "----------------------\n",
            "digit_5\n",
            "----------------------\n",
            "digit_0\n",
            "----------------------\n",
            "digit_8\n"
          ],
          "name": "stdout"
        }
      ]
    },
    {
      "cell_type": "code",
      "metadata": {
        "id": "1L5FCVMKaK7A",
        "colab_type": "code",
        "outputId": "ffc57d07-501e-4bfa-ab45-4c28ea138eeb",
        "colab": {
          "base_uri": "https://localhost:8080/",
          "height": 51
        }
      },
      "source": [
        "print(np.shape(img_train))\n",
        "# print(np.shape(img_test))\n",
        "print(np.shape(label_train))\n",
        "# print(np.shape(label_test))"
      ],
      "execution_count": 6,
      "outputs": [
        {
          "output_type": "stream",
          "text": [
            "(20000, 28, 28)\n",
            "(20000,)\n"
          ],
          "name": "stdout"
        }
      ]
    },
    {
      "cell_type": "code",
      "metadata": {
        "id": "Lsva6cZPanln",
        "colab_type": "code",
        "outputId": "2806e37b-e0f7-4c3f-92b6-018263df2bdd",
        "colab": {
          "base_uri": "https://localhost:8080/",
          "height": 34
        }
      },
      "source": [
        "# example of training a gan on mnist\n",
        "from numpy import expand_dims\n",
        "from numpy import zeros\n",
        "from numpy import ones\n",
        "from numpy import vstack\n",
        "from numpy.random import randn\n",
        "from numpy.random import randint\n",
        "from keras.datasets.mnist import load_data\n",
        "from keras.optimizers import Adam\n",
        "from keras.models import Sequential\n",
        "from keras.layers import Dense\n",
        "from keras.layers import Reshape\n",
        "from keras.layers import Flatten\n",
        "from keras.layers import Conv2D\n",
        "from keras.layers import Conv2DTranspose\n",
        "from keras.layers import LeakyReLU\n",
        "from keras.layers import Dropout\n",
        "from matplotlib import pyplot\n",
        "from keras import regularizers\n",
        "import cv2 \n",
        "import numpy as np\n",
        "import pandas as pd\n",
        "import os\n",
        "\n",
        "import matplotlib\n",
        "import matplotlib.pyplot as plt\n",
        "%matplotlib inline"
      ],
      "execution_count": 7,
      "outputs": [
        {
          "output_type": "stream",
          "text": [
            "Using TensorFlow backend.\n"
          ],
          "name": "stderr"
        }
      ]
    },
    {
      "cell_type": "code",
      "metadata": {
        "id": "HBhQT6iraNNC",
        "colab_type": "code",
        "colab": {}
      },
      "source": [
        "# define the standalone discriminator model\n",
        "def discriminator(in_shape=(28,28,1)):\n",
        "\tmodel = Sequential()\n",
        "\tmodel.add(Conv2D(64, (3,3), strides=(2, 2), padding='same', input_shape=in_shape))\n",
        "\tmodel.add(LeakyReLU(alpha=0.2))\n",
        "\tmodel.add(Dropout(0.4))\n",
        "\tmodel.add(Conv2D(64, (3,3), strides=(2, 2), padding='same'))\n",
        "\tmodel.add(LeakyReLU(alpha=0.2))\n",
        "\tmodel.add(Dropout(0.4))\n",
        "\tmodel.add(Flatten())\n",
        "\tmodel.add(Dense(1, activation='sigmoid')) # sigmoid\n",
        "\t# compile model\n",
        "\topt = Adam(lr=0.0002, beta_1=0.5)\n",
        "\tmodel.compile(loss='binary_crossentropy', optimizer=opt, metrics=['accuracy'])\n",
        "\treturn model"
      ],
      "execution_count": 0,
      "outputs": []
    },
    {
      "cell_type": "code",
      "metadata": {
        "id": "-ppwHpeaaSyi",
        "colab_type": "code",
        "colab": {}
      },
      "source": [
        "# define the standalone generator model\n",
        "def generator(latent_dim):\n",
        "\tmodel = Sequential()\n",
        "\t# foundation for 7x7 image\n",
        "\tn_nodes = 128 * 7 * 7\n",
        "\tmodel.add(Dense(n_nodes, input_dim=latent_dim))\n",
        "\tmodel.add(LeakyReLU(alpha=0.2))\n",
        "\tmodel.add(Reshape((7, 7, 128)))\n",
        "\t# upsample to 14x14\n",
        "\tmodel.add(Conv2DTranspose(128, (4,4), strides=(2,2), padding='same'))\n",
        "\tmodel.add(LeakyReLU(alpha=0.2))\n",
        "\t# upsample to 28x28\n",
        "\tmodel.add(Conv2DTranspose(128, (4,4), strides=(2,2), padding='same'))\n",
        "\tmodel.add(LeakyReLU(alpha=0.2))\n",
        "\tmodel.add(Conv2D(1, (7,7), activation='sigmoid', padding='same'))\n",
        "\treturn model"
      ],
      "execution_count": 0,
      "outputs": []
    },
    {
      "cell_type": "code",
      "metadata": {
        "id": "7HHEP8xxaUdZ",
        "colab_type": "code",
        "colab": {}
      },
      "source": [
        "# define the combined generator and discriminator model, for updating the generator\n",
        "def gan(g_model, d_model):\n",
        "\t# make weights in the discriminator not trainable\n",
        "\td_model.trainable = False\n",
        "\t# connect them\n",
        "\tmodel = Sequential()\n",
        "\t# add generator\n",
        "\tmodel.add(g_model)\n",
        "\t# add the discriminator\n",
        "\tmodel.add(d_model)\n",
        "\t# compile model\n",
        "\topt = Adam(lr=0.0002, beta_1=0.5)\n",
        "\tmodel.compile(loss='binary_crossentropy', optimizer=opt)\n",
        "\treturn model"
      ],
      "execution_count": 0,
      "outputs": []
    },
    {
      "cell_type": "code",
      "metadata": {
        "id": "Kx6QRhGdaWZg",
        "colab_type": "code",
        "colab": {}
      },
      "source": [
        "# load and prepare mnist training images\n",
        "def load_real_samples():\n",
        "\t# load dataset\n",
        "\ttrainX = img_train \n",
        "\t# expand to 3d, e.g. add channels dimension\n",
        "\tX = expand_dims(trainX, axis=-1)\n",
        "\t# convert from unsigned ints to floats\n",
        "\tX = X.astype('float32')\n",
        "\t# scale from [0,255] to [0,1]\n",
        "\tX = X / 255.0\n",
        "\treturn X"
      ],
      "execution_count": 0,
      "outputs": []
    },
    {
      "cell_type": "code",
      "metadata": {
        "id": "PosEnrRSaX6i",
        "colab_type": "code",
        "colab": {}
      },
      "source": [
        "# select real samples\n",
        "def generate_real_images(dataset, n_samples):\n",
        "\t# choose random instances\n",
        "\tix = randint(0, dataset.shape[0], n_samples)\n",
        "\t# retrieve selected images\n",
        "\tX = dataset[ix]\n",
        "\t# generate 'real' class labels (1)\n",
        "\ty = ones((n_samples, 1))\n",
        "\treturn X, y"
      ],
      "execution_count": 0,
      "outputs": []
    },
    {
      "cell_type": "code",
      "metadata": {
        "id": "bPCH-d7yaaTS",
        "colab_type": "code",
        "colab": {}
      },
      "source": [
        "# generate points in latent space as input for the generator\n",
        "def latentpoints(latent_dim, n_samples):\n",
        "\t# generate points in the latent space\n",
        "\tx_input = randn(latent_dim * n_samples)\n",
        "\t# reshape into a batch of inputs for the network\n",
        "\tx_input = x_input.reshape(n_samples, latent_dim)\n",
        "\treturn x_input"
      ],
      "execution_count": 0,
      "outputs": []
    },
    {
      "cell_type": "code",
      "metadata": {
        "id": "GA9WlsfyabxE",
        "colab_type": "code",
        "colab": {}
      },
      "source": [
        "# use the generator to generate n fake examples, with class labels\n",
        "def generate_fake_images(g_model, latent_dim, n_samples):\n",
        "\t# generate points in latent space\n",
        "\tx_input = latentpoints(latent_dim, n_samples)\n",
        "\t# predict outputs\n",
        "\tX = g_model.predict(x_input)\n",
        "\t# create 'fake' class labels (0)\n",
        "\ty = zeros((n_samples, 1))\n",
        "\treturn X, y"
      ],
      "execution_count": 0,
      "outputs": []
    },
    {
      "cell_type": "code",
      "metadata": {
        "id": "QTzK6LhdSqHK",
        "colab_type": "code",
        "colab": {}
      },
      "source": [
        "n_samples = 1000\n",
        "latent_dim = 100\n",
        "x_rnd = randn(latent_dim * n_samples)"
      ],
      "execution_count": 0,
      "outputs": []
    },
    {
      "cell_type": "code",
      "metadata": {
        "id": "e32N-chfWaHf",
        "colab_type": "code",
        "colab": {}
      },
      "source": [
        "def generate_fake_images_plt(g_model, latent_dim, n_samples):\n",
        "\t# generate points in latent space\n",
        "\tx_input = x_rnd\n",
        "\tx_input = x_input.reshape(n_samples, latent_dim)\n",
        "\t# predict outputs\n",
        "\tX = g_model.predict(x_input)\n",
        "\t# create 'fake' class labels (0)\n",
        "\ty = zeros((n_samples, 1))\n",
        "\treturn X, y"
      ],
      "execution_count": 0,
      "outputs": []
    },
    {
      "cell_type": "code",
      "metadata": {
        "id": "VAn3UOvbadRO",
        "colab_type": "code",
        "colab": {}
      },
      "source": [
        "# create and save a plot of generated images (reversed grayscale)\n",
        "def save_plot(examples, epoch, n=7):\n",
        "\t# plot images\n",
        "\tfor i in range(n * n):\n",
        "\t\t# define subplot\n",
        "\t\tpyplot.subplot(n, n, 1 + i)\n",
        "\t\t# turn off axis\n",
        "\t\tpyplot.axis('off')\n",
        "\t\t# plot raw pixel data\n",
        "\t\tpyplot.imshow(examples[i, :, :, 0], cmap='gray_r')\n",
        "\t# save plot to file\n",
        "\tfilename = 'generated_plot_e%03d.png' % (epoch+1)\n",
        "\tpyplot.savefig(filename)\n",
        "\tpyplot.close()"
      ],
      "execution_count": 0,
      "outputs": []
    },
    {
      "cell_type": "code",
      "metadata": {
        "id": "gwd4SsK_ae93",
        "colab_type": "code",
        "colab": {}
      },
      "source": [
        "# evaluate the discriminator, plot generated images, save generator model\n",
        "def summarize_performance(epoch, g_model, d_model, dataset, latent_dim, n_samples=1000):\n",
        "\t# prepare real samples\n",
        "\tX_real, y_real = generate_real_images(dataset, n_samples)\n",
        "\t# evaluate discriminator on real examples\n",
        "\t_, acc_real = d_model.evaluate(X_real, y_real, verbose=0)\n",
        "\t# prepare fake examples\n",
        "\tx_fake, y_fake = generate_fake_images(g_model, latent_dim, n_samples)\n",
        "\t# evaluate discriminator on fake examples\n",
        "\t_, acc_fake = d_model.evaluate(x_fake, y_fake, verbose=0)\n",
        "\t# summarize discriminator performance\n",
        "\tprint('>Accuracy real/ fake data: %.0f%% / %.0f%%' % (acc_real*100, acc_fake*100))\n",
        "\t# save plot\n",
        "\tx_fake, _ = generate_fake_images_plt(g_model, latent_dim, n_samples)\n",
        "\tsave_plot(x_fake, epoch)\n"
      ],
      "execution_count": 0,
      "outputs": []
    },
    {
      "cell_type": "code",
      "metadata": {
        "id": "21zWNmqeXNd8",
        "colab_type": "code",
        "colab": {}
      },
      "source": [
        "def show_loss(hist):\n",
        "    x = range(len(hist['D_losses']))\n",
        "\n",
        "    y1 = hist['D_losses']\n",
        "    y2 = hist['G_losses']\n",
        "\n",
        "    plt.plot(x, y1, label='D_loss')\n",
        "    plt.plot(x, y2, label='G_loss')\n",
        "\n",
        "    plt.xlabel('Epoch')\n",
        "    plt.ylabel('Loss')\n",
        "\n",
        "    plt.legend(loc=4)\n",
        "    plt.grid(True)\n",
        "    plt.tight_layout()\n",
        "    path = 'training_hist.png'\n",
        "    plt.savefig(path)"
      ],
      "execution_count": 0,
      "outputs": []
    },
    {
      "cell_type": "code",
      "metadata": {
        "id": "4J_CriBFaggS",
        "colab_type": "code",
        "colab": {}
      },
      "source": [
        "# train the generator and discriminator\n",
        "def train_gan(g_model, d_model, gan_model, dataset, latent_dim, n_epochs=200, n_batch=256):\n",
        "\tbat_per_epo = int(dataset.shape[0] / n_batch)\n",
        "\thalf_batch = int(n_batch / 2)\n",
        "\t# manually enumerate epochs\n",
        "\thist = {}\n",
        "\thist['D_losses'] = []\n",
        "\thist['G_losses'] = []\n",
        "\tfor i in range(n_epochs):\n",
        "\t\t# enumerate batches over the training set\n",
        "\t\ttmp_d_loss = []\n",
        "\t\ttmp_g_loss = []\n",
        "\t\tfor j in range(bat_per_epo):\n",
        "\t\t\t# get randomly selected 'real' samples\n",
        "\t\t\tX_real, y_real = generate_real_images(dataset, half_batch)\n",
        "\t\t\t# generate 'fake' examples\n",
        "\t\t\tX_fake, y_fake = generate_fake_images(g_model, latent_dim, half_batch)\n",
        "\t\t\t# create training set for the discriminator\n",
        "\t\t\tX, y = vstack((X_real, X_fake)), vstack((y_real, y_fake))\n",
        "\t\t\t\n",
        "      # update discriminator model weights\n",
        "\t\t\td_loss, _ = d_model.train_on_batch(X, y)\n",
        "\t\t\t# prepare points in latent space as input for the generator\n",
        "\t\t\tX_gan = latentpoints(latent_dim, n_batch)\n",
        "\t\t\t# create inverted labels for the fake samples\n",
        "\t\t\ty_gan = ones((n_batch, 1))\n",
        "\t\t\t# update the generator via the discriminator's error\n",
        "\t\t\tg_loss = gan_model.train_on_batch(X_gan, y_gan)\n",
        "\t\t\ttmp_d_loss.append(d_loss)\n",
        "\t\t\ttmp_g_loss.append(g_loss)\n",
        "\n",
        "\t\t# average d_loss, g_loss\n",
        "\t\thist['D_losses'].append(np.mean(tmp_d_loss))\n",
        "\t\thist['G_losses'].append(np.mean(tmp_g_loss))\n",
        "\t\t# evaluate the model performance, sometimes\n",
        "\t\tif (i+1) % 10 == 0:\n",
        "\t\t\tprint('>%d' % (i+1))\n",
        "\t\t\tsummarize_performance(i, g_model, d_model, dataset, latent_dim)\n",
        "\tshow_loss(hist)\n",
        "\t\t\t"
      ],
      "execution_count": 0,
      "outputs": []
    },
    {
      "cell_type": "code",
      "metadata": {
        "id": "Dlqjkck_aidq",
        "colab_type": "code",
        "outputId": "2f749f07-3c03-4bbc-8763-763ff1d50210",
        "colab": {
          "base_uri": "https://localhost:8080/",
          "height": 691
        }
      },
      "source": [
        "# size of the latent space\n",
        "latent_dim = 100\n",
        "\n",
        "# create the discriminator\n",
        "d_model = discriminator()\n",
        "# create the generator\n",
        "g_model = generator(latent_dim)\n",
        "# create the gan\n",
        "gan_model = gan(g_model, d_model)\n",
        "\n",
        "# load image data\n",
        "dataset = load_real_samples()\n",
        "# train model\n",
        "train_gan(g_model, d_model, gan_model, dataset, latent_dim)"
      ],
      "execution_count": 63,
      "outputs": [
        {
          "output_type": "stream",
          "text": [
            "/usr/local/lib/python3.6/dist-packages/keras/engine/training.py:297: UserWarning: Discrepancy between trainable weights and collected trainable weights, did you set `model.trainable` without calling `model.compile` after ?\n",
            "  'Discrepancy between trainable weights and collected trainable'\n"
          ],
          "name": "stderr"
        },
        {
          "output_type": "stream",
          "text": [
            ">10\n",
            ">20\n",
            ">30\n",
            ">40\n",
            ">50\n",
            ">60\n",
            ">70\n",
            ">80\n",
            ">90\n",
            ">100\n",
            ">110\n",
            ">120\n",
            ">130\n",
            ">140\n",
            ">150\n",
            ">160\n",
            ">170\n",
            ">180\n",
            ">190\n",
            ">200\n"
          ],
          "name": "stdout"
        },
        {
          "output_type": "display_data",
          "data": {
            "image/png": "[encoded data removed]",
            "text/plain": [
              "<Figure size 432x288 with 1 Axes>"
            ]
          },
          "metadata": {
            "tags": [],
            "needs_background": "light"
          }
        }
      ]
    },
    {
      "cell_type": "code",
      "metadata": {
        "id": "QpKHmB5PI7Bi",
        "colab_type": "code",
        "colab": {}
      },
      "source": [
        ""
      ],
      "execution_count": 0,
      "outputs": []
    }
  ]
}